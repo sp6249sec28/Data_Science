{
  "nbformat": 4,
  "nbformat_minor": 0,
  "metadata": {
    "colab": {
      "provenance": [],
      "include_colab_link": true
    },
    "kernelspec": {
      "name": "python3",
      "display_name": "Python 3"
    },
    "language_info": {
      "name": "python"
    }
  },
  "cells": [
    {
      "cell_type": "markdown",
      "metadata": {
        "id": "view-in-github",
        "colab_type": "text"
      },
      "source": [
        "<a href=\"https://colab.research.google.com/github/sp6249sec28/Data_Science/blob/main/DS8.ipynb\" target=\"_parent\"><img src=\"https://colab.research.google.com/assets/colab-badge.svg\" alt=\"Open In Colab\"/></a>"
      ]
    },
    {
      "cell_type": "code",
      "execution_count": null,
      "metadata": {
        "id": "J8BvuonBQJkC"
      },
      "outputs": [],
      "source": [
        "#WEB SCRAPING - EXTRACTING/SCRAPING OF THE DATA FROM THE WEB.\n",
        "#We will be scraping the Amazon Customer Reviews from Amazon website\n",
        "#BeautifulSoup - Tool used for web scraping.\n",
        "#url -https://www.amazon.in/Apple-iPhone-128GB-Space-Black/product-reviews/B0BDJ22G36/ref=cm_cr_dp_d_show_all_btm?ie=UTF8&reviewerType=all_reviews"
      ]
    },
    {
      "cell_type": "code",
      "source": [
        "import requests\n",
        "from bs4 import BeautifulSoup as bs\n"
      ],
      "metadata": {
        "id": "QE0PIGfvQnE2"
      },
      "execution_count": null,
      "outputs": []
    },
    {
      "cell_type": "code",
      "source": [
        "url = 'https://www.amazon.in/Apple-iPhone-128GB-Space-Black/product-reviews/B0BDJ22G36/ref=cm_cr_dp_d_show_all_btm?ie=UTF8&reviewerType=all_reviews'\n",
        "page = requests.get(url) #Requesting the contents of the above url\n",
        "page\n",
        "#<Response [200]> is correct.<Response [503]> is an error. Try rerunning your cell for 6 to 8 times and get <Response [200]>.\n",
        "#Even after rerunning  the cell multiple times , if you do not get the output , check for proper url"
      ],
      "metadata": {
        "colab": {
          "base_uri": "https://localhost:8080/"
        },
        "id": "ZZ8rru2DQ18M",
        "outputId": "7c7f3832-8877-4785-ecc0-3fa63120ddbf"
      },
      "execution_count": null,
      "outputs": [
        {
          "output_type": "execute_result",
          "data": {
            "text/plain": [
              "<Response [200]>"
            ]
          },
          "metadata": {},
          "execution_count": 3
        }
      ]
    },
    {
      "cell_type": "code",
      "source": [
        "page.content # This line prints the html source code of this page"
      ],
      "metadata": {
        "id": "8fCNuhDMSyfy"
      },
      "execution_count": null,
      "outputs": []
    },
    {
      "cell_type": "code",
      "source": [
        "soup = bs(page.content,'html.parser')\n",
        "soup  #html.parser - It Makes our source code into better readable format"
      ],
      "metadata": {
        "id": "dB8x_z85TxO-"
      },
      "execution_count": null,
      "outputs": []
    },
    {
      "cell_type": "code",
      "source": [
        "#NEVER EVER CONSIDER TOP POSITIVE and TOP CRITICAL REVIEWS"
      ],
      "metadata": {
        "id": "CSUhWjYbUn0S"
      },
      "execution_count": null,
      "outputs": []
    },
    {
      "cell_type": "code",
      "source": [
        "#Let us just extract the Amazon Customer Review Names\n",
        "names = soup.find_all('span',class_ = 'a-profile-name')[2:]\n",
        "names"
      ],
      "metadata": {
        "colab": {
          "base_uri": "https://localhost:8080/"
        },
        "id": "oOJaxZzoVcFV",
        "outputId": "04c5a6b4-8624-40d4-8bdd-50423bd12dfd"
      },
      "execution_count": null,
      "outputs": [
        {
          "output_type": "execute_result",
          "data": {
            "text/plain": [
              "[<span class=\"a-profile-name\">Benu</span>,\n",
              " <span class=\"a-profile-name\">Benu</span>,\n",
              " <span class=\"a-profile-name\">Mr. M</span>,\n",
              " <span class=\"a-profile-name\">Mr. M</span>,\n",
              " <span class=\"a-profile-name\">Gaurav Shahdeo</span>,\n",
              " <span class=\"a-profile-name\">Lakshmesh Kumar Singh </span>,\n",
              " <span class=\"a-profile-name\">AKASH SHARMA</span>,\n",
              " <span class=\"a-profile-name\">Vishal</span>,\n",
              " <span class=\"a-profile-name\">Amazon Customer</span>,\n",
              " <span class=\"a-profile-name\">Kavya</span>,\n",
              " <span class=\"a-profile-name\">Atreyapurapu Radha Madhav</span>,\n",
              " <span class=\"a-profile-name\">Dibyaprakash Pradhan</span>]"
            ]
          },
          "metadata": {},
          "execution_count": 9
        }
      ]
    },
    {
      "cell_type": "code",
      "source": [
        "len(names)"
      ],
      "metadata": {
        "colab": {
          "base_uri": "https://localhost:8080/"
        },
        "id": "kr41fsfcWttU",
        "outputId": "27b2bbee-33e8-4014-ab77-0d9f90b62b27"
      },
      "execution_count": null,
      "outputs": [
        {
          "output_type": "execute_result",
          "data": {
            "text/plain": [
              "12"
            ]
          },
          "metadata": {},
          "execution_count": 10
        }
      ]
    },
    {
      "cell_type": "code",
      "source": [
        "#Using the above list names , let us create a dataframe\n",
        "import pandas as pd\n",
        "df = pd.DataFrame(names,columns = ['Customer Name'])\n",
        "df"
      ],
      "metadata": {
        "colab": {
          "base_uri": "https://localhost:8080/",
          "height": 426
        },
        "id": "hoGge6SuXYhS",
        "outputId": "977dcde7-207a-43eb-d216-b6cb2722ab7a"
      },
      "execution_count": null,
      "outputs": [
        {
          "output_type": "execute_result",
          "data": {
            "text/plain": [
              "                Customer Name\n",
              "0                        Benu\n",
              "1                        Benu\n",
              "2                       Mr. M\n",
              "3                       Mr. M\n",
              "4              Gaurav Shahdeo\n",
              "5      Lakshmesh Kumar Singh \n",
              "6                AKASH SHARMA\n",
              "7                      Vishal\n",
              "8             Amazon Customer\n",
              "9                       Kavya\n",
              "10  Atreyapurapu Radha Madhav\n",
              "11       Dibyaprakash Pradhan"
            ],
            "text/html": [
              "\n",
              "  <div id=\"df-7b1b5876-4441-4285-9030-964d801c729e\">\n",
              "    <div class=\"colab-df-container\">\n",
              "      <div>\n",
              "<style scoped>\n",
              "    .dataframe tbody tr th:only-of-type {\n",
              "        vertical-align: middle;\n",
              "    }\n",
              "\n",
              "    .dataframe tbody tr th {\n",
              "        vertical-align: top;\n",
              "    }\n",
              "\n",
              "    .dataframe thead th {\n",
              "        text-align: right;\n",
              "    }\n",
              "</style>\n",
              "<table border=\"1\" class=\"dataframe\">\n",
              "  <thead>\n",
              "    <tr style=\"text-align: right;\">\n",
              "      <th></th>\n",
              "      <th>Customer Name</th>\n",
              "    </tr>\n",
              "  </thead>\n",
              "  <tbody>\n",
              "    <tr>\n",
              "      <th>0</th>\n",
              "      <td>Benu</td>\n",
              "    </tr>\n",
              "    <tr>\n",
              "      <th>1</th>\n",
              "      <td>Benu</td>\n",
              "    </tr>\n",
              "    <tr>\n",
              "      <th>2</th>\n",
              "      <td>Mr. M</td>\n",
              "    </tr>\n",
              "    <tr>\n",
              "      <th>3</th>\n",
              "      <td>Mr. M</td>\n",
              "    </tr>\n",
              "    <tr>\n",
              "      <th>4</th>\n",
              "      <td>Gaurav Shahdeo</td>\n",
              "    </tr>\n",
              "    <tr>\n",
              "      <th>5</th>\n",
              "      <td>Lakshmesh Kumar Singh</td>\n",
              "    </tr>\n",
              "    <tr>\n",
              "      <th>6</th>\n",
              "      <td>AKASH SHARMA</td>\n",
              "    </tr>\n",
              "    <tr>\n",
              "      <th>7</th>\n",
              "      <td>Vishal</td>\n",
              "    </tr>\n",
              "    <tr>\n",
              "      <th>8</th>\n",
              "      <td>Amazon Customer</td>\n",
              "    </tr>\n",
              "    <tr>\n",
              "      <th>9</th>\n",
              "      <td>Kavya</td>\n",
              "    </tr>\n",
              "    <tr>\n",
              "      <th>10</th>\n",
              "      <td>Atreyapurapu Radha Madhav</td>\n",
              "    </tr>\n",
              "    <tr>\n",
              "      <th>11</th>\n",
              "      <td>Dibyaprakash Pradhan</td>\n",
              "    </tr>\n",
              "  </tbody>\n",
              "</table>\n",
              "</div>\n",
              "      <button class=\"colab-df-convert\" onclick=\"convertToInteractive('df-7b1b5876-4441-4285-9030-964d801c729e')\"\n",
              "              title=\"Convert this dataframe to an interactive table.\"\n",
              "              style=\"display:none;\">\n",
              "        \n",
              "  <svg xmlns=\"http://www.w3.org/2000/svg\" height=\"24px\"viewBox=\"0 0 24 24\"\n",
              "       width=\"24px\">\n",
              "    <path d=\"M0 0h24v24H0V0z\" fill=\"none\"/>\n",
              "    <path d=\"M18.56 5.44l.94 2.06.94-2.06 2.06-.94-2.06-.94-.94-2.06-.94 2.06-2.06.94zm-11 1L8.5 8.5l.94-2.06 2.06-.94-2.06-.94L8.5 2.5l-.94 2.06-2.06.94zm10 10l.94 2.06.94-2.06 2.06-.94-2.06-.94-.94-2.06-.94 2.06-2.06.94z\"/><path d=\"M17.41 7.96l-1.37-1.37c-.4-.4-.92-.59-1.43-.59-.52 0-1.04.2-1.43.59L10.3 9.45l-7.72 7.72c-.78.78-.78 2.05 0 2.83L4 21.41c.39.39.9.59 1.41.59.51 0 1.02-.2 1.41-.59l7.78-7.78 2.81-2.81c.8-.78.8-2.07 0-2.86zM5.41 20L4 18.59l7.72-7.72 1.47 1.35L5.41 20z\"/>\n",
              "  </svg>\n",
              "      </button>\n",
              "      \n",
              "  <style>\n",
              "    .colab-df-container {\n",
              "      display:flex;\n",
              "      flex-wrap:wrap;\n",
              "      gap: 12px;\n",
              "    }\n",
              "\n",
              "    .colab-df-convert {\n",
              "      background-color: #E8F0FE;\n",
              "      border: none;\n",
              "      border-radius: 50%;\n",
              "      cursor: pointer;\n",
              "      display: none;\n",
              "      fill: #1967D2;\n",
              "      height: 32px;\n",
              "      padding: 0 0 0 0;\n",
              "      width: 32px;\n",
              "    }\n",
              "\n",
              "    .colab-df-convert:hover {\n",
              "      background-color: #E2EBFA;\n",
              "      box-shadow: 0px 1px 2px rgba(60, 64, 67, 0.3), 0px 1px 3px 1px rgba(60, 64, 67, 0.15);\n",
              "      fill: #174EA6;\n",
              "    }\n",
              "\n",
              "    [theme=dark] .colab-df-convert {\n",
              "      background-color: #3B4455;\n",
              "      fill: #D2E3FC;\n",
              "    }\n",
              "\n",
              "    [theme=dark] .colab-df-convert:hover {\n",
              "      background-color: #434B5C;\n",
              "      box-shadow: 0px 1px 3px 1px rgba(0, 0, 0, 0.15);\n",
              "      filter: drop-shadow(0px 1px 2px rgba(0, 0, 0, 0.3));\n",
              "      fill: #FFFFFF;\n",
              "    }\n",
              "  </style>\n",
              "\n",
              "      <script>\n",
              "        const buttonEl =\n",
              "          document.querySelector('#df-7b1b5876-4441-4285-9030-964d801c729e button.colab-df-convert');\n",
              "        buttonEl.style.display =\n",
              "          google.colab.kernel.accessAllowed ? 'block' : 'none';\n",
              "\n",
              "        async function convertToInteractive(key) {\n",
              "          const element = document.querySelector('#df-7b1b5876-4441-4285-9030-964d801c729e');\n",
              "          const dataTable =\n",
              "            await google.colab.kernel.invokeFunction('convertToInteractive',\n",
              "                                                     [key], {});\n",
              "          if (!dataTable) return;\n",
              "\n",
              "          const docLinkHtml = 'Like what you see? Visit the ' +\n",
              "            '<a target=\"_blank\" href=https://colab.research.google.com/notebooks/data_table.ipynb>data table notebook</a>'\n",
              "            + ' to learn more about interactive tables.';\n",
              "          element.innerHTML = '';\n",
              "          dataTable['output_type'] = 'display_data';\n",
              "          await google.colab.output.renderOutput(dataTable, element);\n",
              "          const docLink = document.createElement('div');\n",
              "          docLink.innerHTML = docLinkHtml;\n",
              "          element.appendChild(docLink);\n",
              "        }\n",
              "      </script>\n",
              "    </div>\n",
              "  </div>\n",
              "  "
            ]
          },
          "metadata": {},
          "execution_count": 12
        }
      ]
    },
    {
      "cell_type": "code",
      "source": [
        "#I want to drop the duplicates here\n",
        "df = df.drop_duplicates(ignore_index = True)\n",
        "df"
      ],
      "metadata": {
        "colab": {
          "base_uri": "https://localhost:8080/",
          "height": 363
        },
        "id": "a5OvZPPpYFlc",
        "outputId": "30ba05fa-1c91-4019-de85-004c89258ae1"
      },
      "execution_count": null,
      "outputs": [
        {
          "output_type": "execute_result",
          "data": {
            "text/plain": [
              "               Customer Name\n",
              "0                       Benu\n",
              "1                      Mr. M\n",
              "2             Gaurav Shahdeo\n",
              "3     Lakshmesh Kumar Singh \n",
              "4               AKASH SHARMA\n",
              "5                     Vishal\n",
              "6            Amazon Customer\n",
              "7                      Kavya\n",
              "8  Atreyapurapu Radha Madhav\n",
              "9       Dibyaprakash Pradhan"
            ],
            "text/html": [
              "\n",
              "  <div id=\"df-3f98d73e-cee1-491b-9385-b7e9ce237415\">\n",
              "    <div class=\"colab-df-container\">\n",
              "      <div>\n",
              "<style scoped>\n",
              "    .dataframe tbody tr th:only-of-type {\n",
              "        vertical-align: middle;\n",
              "    }\n",
              "\n",
              "    .dataframe tbody tr th {\n",
              "        vertical-align: top;\n",
              "    }\n",
              "\n",
              "    .dataframe thead th {\n",
              "        text-align: right;\n",
              "    }\n",
              "</style>\n",
              "<table border=\"1\" class=\"dataframe\">\n",
              "  <thead>\n",
              "    <tr style=\"text-align: right;\">\n",
              "      <th></th>\n",
              "      <th>Customer Name</th>\n",
              "    </tr>\n",
              "  </thead>\n",
              "  <tbody>\n",
              "    <tr>\n",
              "      <th>0</th>\n",
              "      <td>Benu</td>\n",
              "    </tr>\n",
              "    <tr>\n",
              "      <th>1</th>\n",
              "      <td>Mr. M</td>\n",
              "    </tr>\n",
              "    <tr>\n",
              "      <th>2</th>\n",
              "      <td>Gaurav Shahdeo</td>\n",
              "    </tr>\n",
              "    <tr>\n",
              "      <th>3</th>\n",
              "      <td>Lakshmesh Kumar Singh</td>\n",
              "    </tr>\n",
              "    <tr>\n",
              "      <th>4</th>\n",
              "      <td>AKASH SHARMA</td>\n",
              "    </tr>\n",
              "    <tr>\n",
              "      <th>5</th>\n",
              "      <td>Vishal</td>\n",
              "    </tr>\n",
              "    <tr>\n",
              "      <th>6</th>\n",
              "      <td>Amazon Customer</td>\n",
              "    </tr>\n",
              "    <tr>\n",
              "      <th>7</th>\n",
              "      <td>Kavya</td>\n",
              "    </tr>\n",
              "    <tr>\n",
              "      <th>8</th>\n",
              "      <td>Atreyapurapu Radha Madhav</td>\n",
              "    </tr>\n",
              "    <tr>\n",
              "      <th>9</th>\n",
              "      <td>Dibyaprakash Pradhan</td>\n",
              "    </tr>\n",
              "  </tbody>\n",
              "</table>\n",
              "</div>\n",
              "      <button class=\"colab-df-convert\" onclick=\"convertToInteractive('df-3f98d73e-cee1-491b-9385-b7e9ce237415')\"\n",
              "              title=\"Convert this dataframe to an interactive table.\"\n",
              "              style=\"display:none;\">\n",
              "        \n",
              "  <svg xmlns=\"http://www.w3.org/2000/svg\" height=\"24px\"viewBox=\"0 0 24 24\"\n",
              "       width=\"24px\">\n",
              "    <path d=\"M0 0h24v24H0V0z\" fill=\"none\"/>\n",
              "    <path d=\"M18.56 5.44l.94 2.06.94-2.06 2.06-.94-2.06-.94-.94-2.06-.94 2.06-2.06.94zm-11 1L8.5 8.5l.94-2.06 2.06-.94-2.06-.94L8.5 2.5l-.94 2.06-2.06.94zm10 10l.94 2.06.94-2.06 2.06-.94-2.06-.94-.94-2.06-.94 2.06-2.06.94z\"/><path d=\"M17.41 7.96l-1.37-1.37c-.4-.4-.92-.59-1.43-.59-.52 0-1.04.2-1.43.59L10.3 9.45l-7.72 7.72c-.78.78-.78 2.05 0 2.83L4 21.41c.39.39.9.59 1.41.59.51 0 1.02-.2 1.41-.59l7.78-7.78 2.81-2.81c.8-.78.8-2.07 0-2.86zM5.41 20L4 18.59l7.72-7.72 1.47 1.35L5.41 20z\"/>\n",
              "  </svg>\n",
              "      </button>\n",
              "      \n",
              "  <style>\n",
              "    .colab-df-container {\n",
              "      display:flex;\n",
              "      flex-wrap:wrap;\n",
              "      gap: 12px;\n",
              "    }\n",
              "\n",
              "    .colab-df-convert {\n",
              "      background-color: #E8F0FE;\n",
              "      border: none;\n",
              "      border-radius: 50%;\n",
              "      cursor: pointer;\n",
              "      display: none;\n",
              "      fill: #1967D2;\n",
              "      height: 32px;\n",
              "      padding: 0 0 0 0;\n",
              "      width: 32px;\n",
              "    }\n",
              "\n",
              "    .colab-df-convert:hover {\n",
              "      background-color: #E2EBFA;\n",
              "      box-shadow: 0px 1px 2px rgba(60, 64, 67, 0.3), 0px 1px 3px 1px rgba(60, 64, 67, 0.15);\n",
              "      fill: #174EA6;\n",
              "    }\n",
              "\n",
              "    [theme=dark] .colab-df-convert {\n",
              "      background-color: #3B4455;\n",
              "      fill: #D2E3FC;\n",
              "    }\n",
              "\n",
              "    [theme=dark] .colab-df-convert:hover {\n",
              "      background-color: #434B5C;\n",
              "      box-shadow: 0px 1px 3px 1px rgba(0, 0, 0, 0.15);\n",
              "      filter: drop-shadow(0px 1px 2px rgba(0, 0, 0, 0.3));\n",
              "      fill: #FFFFFF;\n",
              "    }\n",
              "  </style>\n",
              "\n",
              "      <script>\n",
              "        const buttonEl =\n",
              "          document.querySelector('#df-3f98d73e-cee1-491b-9385-b7e9ce237415 button.colab-df-convert');\n",
              "        buttonEl.style.display =\n",
              "          google.colab.kernel.accessAllowed ? 'block' : 'none';\n",
              "\n",
              "        async function convertToInteractive(key) {\n",
              "          const element = document.querySelector('#df-3f98d73e-cee1-491b-9385-b7e9ce237415');\n",
              "          const dataTable =\n",
              "            await google.colab.kernel.invokeFunction('convertToInteractive',\n",
              "                                                     [key], {});\n",
              "          if (!dataTable) return;\n",
              "\n",
              "          const docLinkHtml = 'Like what you see? Visit the ' +\n",
              "            '<a target=\"_blank\" href=https://colab.research.google.com/notebooks/data_table.ipynb>data table notebook</a>'\n",
              "            + ' to learn more about interactive tables.';\n",
              "          element.innerHTML = '';\n",
              "          dataTable['output_type'] = 'display_data';\n",
              "          await google.colab.output.renderOutput(dataTable, element);\n",
              "          const docLink = document.createElement('div');\n",
              "          docLink.innerHTML = docLinkHtml;\n",
              "          element.appendChild(docLink);\n",
              "        }\n",
              "      </script>\n",
              "    </div>\n",
              "  </div>\n",
              "  "
            ]
          },
          "metadata": {},
          "execution_count": 15
        }
      ]
    },
    {
      "cell_type": "code",
      "source": [
        "#Now let us scrape the review title\n",
        "r_title = soup.find_all('a',class_ = 'review-title')\n",
        "r_title"
      ],
      "metadata": {
        "colab": {
          "base_uri": "https://localhost:8080/"
        },
        "id": "5yNIx8rsY3kA",
        "outputId": "72bacdb8-1c7f-45b2-ee34-6fccb5841b81"
      },
      "execution_count": null,
      "outputs": [
        {
          "output_type": "execute_result",
          "data": {
            "text/plain": [
              "[<a class=\"a-size-base a-link-normal review-title a-color-base review-title-content a-text-bold\" data-hook=\"review-title\" href=\"/gp/customer-reviews/R178VH7LMPCE3E?ASIN=B0BDJ22G36\">\n",
              " <span>The Apple Pro Max 14: A Powerful Beast That Delivers on All Fronts</span>\n",
              " </a>,\n",
              " <a class=\"a-size-base a-link-normal review-title a-color-base review-title-content a-text-bold\" data-hook=\"review-title\" href=\"/gp/customer-reviews/R17P1DM00FSJKF?ASIN=B0BDJ22G36\">\n",
              " <span>Great</span>\n",
              " </a>,\n",
              " <a class=\"a-size-base a-link-normal review-title a-color-base review-title-content a-text-bold\" data-hook=\"review-title\" href=\"/gp/customer-reviews/RWLXTQ7FQE5NS?ASIN=B0BDJ22G36\">\n",
              " <span>About phone</span>\n",
              " </a>,\n",
              " <a class=\"a-size-base a-link-normal review-title a-color-base review-title-content a-text-bold\" data-hook=\"review-title\" href=\"/gp/customer-reviews/R12BUCFRQ6R3XF?ASIN=B0BDJ22G36\">\n",
              " <span>Good</span>\n",
              " </a>,\n",
              " <a class=\"a-size-base a-link-normal review-title a-color-base review-title-content a-text-bold\" data-hook=\"review-title\" href=\"/gp/customer-reviews/R25FKA539B9KLN?ASIN=B0BDJ22G36\">\n",
              " <span>Android is better when it comes to os</span>\n",
              " </a>,\n",
              " <a class=\"a-size-base a-link-normal review-title a-color-base review-title-content a-text-bold\" data-hook=\"review-title\" href=\"/gp/customer-reviews/R11BA0GHPQRPUQ?ASIN=B0BDJ22G36\">\n",
              " <span>Phone is much better</span>\n",
              " </a>,\n",
              " <a class=\"a-size-base a-link-normal review-title a-color-base review-title-content a-text-bold\" data-hook=\"review-title\" href=\"/gp/customer-reviews/RGE0MP3MP9CTN?ASIN=B0BDJ22G36\">\n",
              " <span>Super</span>\n",
              " </a>,\n",
              " <a class=\"a-size-base a-link-normal review-title a-color-base review-title-content a-text-bold\" data-hook=\"review-title\" href=\"/gp/customer-reviews/R30J3P5QM25FD3?ASIN=B0BDJ22G36\">\n",
              " <span>Excellent</span>\n",
              " </a>,\n",
              " <a class=\"a-size-base a-link-normal review-title a-color-base review-title-content a-text-bold\" data-hook=\"review-title\" href=\"/gp/customer-reviews/R2GMNHGLNG3OE9?ASIN=B0BDJ22G36\">\n",
              " <span>Most Trusted Online Site</span>\n",
              " </a>,\n",
              " <a class=\"a-size-base a-link-normal review-title a-color-base review-title-content a-text-bold\" data-hook=\"review-title\" href=\"/gp/customer-reviews/R39MJ9X8D45COR?ASIN=B0BDJ22G36\">\n",
              " <span>True Value</span>\n",
              " </a>]"
            ]
          },
          "metadata": {},
          "execution_count": 16
        }
      ]
    },
    {
      "cell_type": "code",
      "source": [
        "len(r_title)"
      ],
      "metadata": {
        "colab": {
          "base_uri": "https://localhost:8080/"
        },
        "id": "ir-stnEUaFUr",
        "outputId": "230f0e18-bbdd-4b45-82f3-76c75e0ee773"
      },
      "execution_count": null,
      "outputs": [
        {
          "output_type": "execute_result",
          "data": {
            "text/plain": [
              "10"
            ]
          },
          "metadata": {},
          "execution_count": 17
        }
      ]
    },
    {
      "cell_type": "code",
      "source": [
        "#Data Cleaning/Filtering\n",
        "review_title = [] #empty list\n",
        "\n",
        "#for i in range(0,10):\n",
        "for i in range(0,len(r_title)):\n",
        "  review_title.append(r_title[i].get_text()[1:-1])\n",
        "review_title"
      ],
      "metadata": {
        "colab": {
          "base_uri": "https://localhost:8080/"
        },
        "id": "_lbvZfgUaZN1",
        "outputId": "c9b81dab-ba59-4332-c935-70aff579bf85"
      },
      "execution_count": null,
      "outputs": [
        {
          "output_type": "execute_result",
          "data": {
            "text/plain": [
              "['The Apple Pro Max 14: A Powerful Beast That Delivers on All Fronts',\n",
              " 'Great',\n",
              " 'About phone',\n",
              " 'Good',\n",
              " 'Android is better when it comes to os',\n",
              " 'Phone is much better',\n",
              " 'Super',\n",
              " 'Excellent',\n",
              " 'Most Trusted Online Site',\n",
              " 'True Value']"
            ]
          },
          "metadata": {},
          "execution_count": 19
        }
      ]
    },
    {
      "cell_type": "code",
      "source": [
        "#Now let us scrape the review date\n",
        "dates = soup.find_all('span',class_ = 'review-date')[2:]\n",
        "dates"
      ],
      "metadata": {
        "colab": {
          "base_uri": "https://localhost:8080/"
        },
        "id": "S6aNVQsrbW7C",
        "outputId": "9421abfa-5fb8-4915-89bb-29d0d9d1e32d"
      },
      "execution_count": null,
      "outputs": [
        {
          "output_type": "execute_result",
          "data": {
            "text/plain": [
              "[<span class=\"a-size-base a-color-secondary review-date\" data-hook=\"review-date\">Reviewed in India 🇮🇳 on 25 May 2023</span>,\n",
              " <span class=\"a-size-base a-color-secondary review-date\" data-hook=\"review-date\">Reviewed in India 🇮🇳 on 25 January 2023</span>,\n",
              " <span class=\"a-size-base a-color-secondary review-date\" data-hook=\"review-date\">Reviewed in India 🇮🇳 on 23 May 2023</span>,\n",
              " <span class=\"a-size-base a-color-secondary review-date\" data-hook=\"review-date\">Reviewed in India 🇮🇳 on 24 May 2023</span>,\n",
              " <span class=\"a-size-base a-color-secondary review-date\" data-hook=\"review-date\">Reviewed in India 🇮🇳 on 18 April 2023</span>,\n",
              " <span class=\"a-size-base a-color-secondary review-date\" data-hook=\"review-date\">Reviewed in India 🇮🇳 on 18 May 2023</span>,\n",
              " <span class=\"a-size-base a-color-secondary review-date\" data-hook=\"review-date\">Reviewed in India 🇮🇳 on 20 May 2023</span>,\n",
              " <span class=\"a-size-base a-color-secondary review-date\" data-hook=\"review-date\">Reviewed in India 🇮🇳 on 30 May 2023</span>,\n",
              " <span class=\"a-size-base a-color-secondary review-date\" data-hook=\"review-date\">Reviewed in India 🇮🇳 on 8 May 2023</span>,\n",
              " <span class=\"a-size-base a-color-secondary review-date\" data-hook=\"review-date\">Reviewed in India 🇮🇳 on 10 May 2023</span>]"
            ]
          },
          "metadata": {},
          "execution_count": 22
        }
      ]
    },
    {
      "cell_type": "code",
      "source": [
        "len(dates)"
      ],
      "metadata": {
        "colab": {
          "base_uri": "https://localhost:8080/"
        },
        "id": "8ZvnK2fQe1oY",
        "outputId": "5ab7f0af-4632-478c-f0a6-94ef3650797b"
      },
      "execution_count": null,
      "outputs": [
        {
          "output_type": "execute_result",
          "data": {
            "text/plain": [
              "10"
            ]
          },
          "metadata": {},
          "execution_count": 23
        }
      ]
    },
    {
      "cell_type": "code",
      "source": [
        "#Data Cleaning\n",
        "review_date = [] #empty list\n",
        "for i in range(0,len(dates)):\n",
        "  review_date.append(dates[i].get_text().replace('Reviewed in India 🇮🇳 on ',''))\n",
        "review_date"
      ],
      "metadata": {
        "colab": {
          "base_uri": "https://localhost:8080/"
        },
        "id": "e7djXo2Pe7cx",
        "outputId": "69a82634-5bfd-4d63-9704-355e3cbdc2e5"
      },
      "execution_count": null,
      "outputs": [
        {
          "output_type": "execute_result",
          "data": {
            "text/plain": [
              "['25 May 2023',\n",
              " '25 January 2023',\n",
              " '23 May 2023',\n",
              " '24 May 2023',\n",
              " '18 April 2023',\n",
              " '18 May 2023',\n",
              " '20 May 2023',\n",
              " '30 May 2023',\n",
              " '8 May 2023',\n",
              " '10 May 2023']"
            ]
          },
          "metadata": {},
          "execution_count": 26
        }
      ]
    },
    {
      "cell_type": "code",
      "source": [
        "#Next is Review rating in stars\n",
        "rating = soup.find_all('i',class_ = 'review-rating')[2:]\n",
        "rating"
      ],
      "metadata": {
        "colab": {
          "base_uri": "https://localhost:8080/"
        },
        "id": "XVOTFCvLfZEQ",
        "outputId": "070c5dcd-7813-4a0b-8df3-5d020edfd379"
      },
      "execution_count": null,
      "outputs": [
        {
          "output_type": "execute_result",
          "data": {
            "text/plain": [
              "[<i class=\"a-icon a-icon-star a-star-5 review-rating\" data-hook=\"review-star-rating\"><span class=\"a-icon-alt\">5.0 out of 5 stars</span></i>,\n",
              " <i class=\"a-icon a-icon-star a-star-5 review-rating\" data-hook=\"review-star-rating\"><span class=\"a-icon-alt\">5.0 out of 5 stars</span></i>,\n",
              " <i class=\"a-icon a-icon-star a-star-5 review-rating\" data-hook=\"review-star-rating\"><span class=\"a-icon-alt\">5.0 out of 5 stars</span></i>,\n",
              " <i class=\"a-icon a-icon-star a-star-5 review-rating\" data-hook=\"review-star-rating\"><span class=\"a-icon-alt\">5.0 out of 5 stars</span></i>,\n",
              " <i class=\"a-icon a-icon-star a-star-4 review-rating\" data-hook=\"review-star-rating\"><span class=\"a-icon-alt\">4.0 out of 5 stars</span></i>,\n",
              " <i class=\"a-icon a-icon-star a-star-5 review-rating\" data-hook=\"review-star-rating\"><span class=\"a-icon-alt\">5.0 out of 5 stars</span></i>,\n",
              " <i class=\"a-icon a-icon-star a-star-5 review-rating\" data-hook=\"review-star-rating\"><span class=\"a-icon-alt\">5.0 out of 5 stars</span></i>,\n",
              " <i class=\"a-icon a-icon-star a-star-5 review-rating\" data-hook=\"review-star-rating\"><span class=\"a-icon-alt\">5.0 out of 5 stars</span></i>,\n",
              " <i class=\"a-icon a-icon-star a-star-5 review-rating\" data-hook=\"review-star-rating\"><span class=\"a-icon-alt\">5.0 out of 5 stars</span></i>,\n",
              " <i class=\"a-icon a-icon-star a-star-5 review-rating\" data-hook=\"review-star-rating\"><span class=\"a-icon-alt\">5.0 out of 5 stars</span></i>]"
            ]
          },
          "metadata": {},
          "execution_count": 29
        }
      ]
    },
    {
      "cell_type": "code",
      "source": [
        "len(rating)\n"
      ],
      "metadata": {
        "colab": {
          "base_uri": "https://localhost:8080/"
        },
        "id": "jXLyHCfkgI1P",
        "outputId": "fb439543-3ba6-4980-90e2-123e61cc4c9f"
      },
      "execution_count": null,
      "outputs": [
        {
          "output_type": "execute_result",
          "data": {
            "text/plain": [
              "10"
            ]
          },
          "metadata": {},
          "execution_count": 30
        }
      ]
    },
    {
      "cell_type": "code",
      "source": [
        "#data cleaning\n",
        "review_rating = [] #empty list\n",
        "for i in range(0,len(rating)):\n",
        "  review_rating.append(rating[i].get_text())\n",
        "review_rating"
      ],
      "metadata": {
        "colab": {
          "base_uri": "https://localhost:8080/"
        },
        "id": "s4EqSIbogOWD",
        "outputId": "cfcb2d0f-20a9-456f-f233-407c77d27c92"
      },
      "execution_count": null,
      "outputs": [
        {
          "output_type": "execute_result",
          "data": {
            "text/plain": [
              "['5.0 out of 5 stars',\n",
              " '5.0 out of 5 stars',\n",
              " '5.0 out of 5 stars',\n",
              " '5.0 out of 5 stars',\n",
              " '4.0 out of 5 stars',\n",
              " '5.0 out of 5 stars',\n",
              " '5.0 out of 5 stars',\n",
              " '5.0 out of 5 stars',\n",
              " '5.0 out of 5 stars',\n",
              " '5.0 out of 5 stars']"
            ]
          },
          "metadata": {},
          "execution_count": 32
        }
      ]
    },
    {
      "cell_type": "code",
      "source": [
        "#Next is review title content\n",
        "content = soup.find_all('span',class_ = 'review-text')\n",
        "content"
      ],
      "metadata": {
        "id": "HVshwguhgm74"
      },
      "execution_count": null,
      "outputs": []
    },
    {
      "cell_type": "code",
      "source": [
        "len(content)"
      ],
      "metadata": {
        "colab": {
          "base_uri": "https://localhost:8080/"
        },
        "id": "FCMz3ubYhWK6",
        "outputId": "a1e1b6d5-bf73-4e9b-acf4-910bc9418492"
      },
      "execution_count": null,
      "outputs": [
        {
          "output_type": "execute_result",
          "data": {
            "text/plain": [
              "10"
            ]
          },
          "metadata": {},
          "execution_count": 34
        }
      ]
    },
    {
      "cell_type": "code",
      "source": [
        "#Data cleaning\n",
        "review_content = []\n",
        "for i in range(0,len(content)):\n",
        "  review_content.append(content[i].get_text().replace('\\n',''))\n",
        "review_content"
      ],
      "metadata": {
        "id": "UYM150y_hcOU"
      },
      "execution_count": null,
      "outputs": []
    },
    {
      "cell_type": "code",
      "source": [
        "df['Review title'] = review_title\n",
        "df['Review date'] = review_date\n",
        "df['Review rating'] = review_rating\n",
        "df['Review content'] = review_content\n",
        "df"
      ],
      "metadata": {
        "colab": {
          "base_uri": "https://localhost:8080/",
          "height": 598
        },
        "id": "Qs3X8TQZh2Tv",
        "outputId": "9b2ba0a4-12e8-4f31-dd66-3bfeecd8bae7"
      },
      "execution_count": null,
      "outputs": [
        {
          "output_type": "execute_result",
          "data": {
            "text/plain": [
              "               Customer Name  \\\n",
              "0                       Benu   \n",
              "1                      Mr. M   \n",
              "2             Gaurav Shahdeo   \n",
              "3     Lakshmesh Kumar Singh    \n",
              "4               AKASH SHARMA   \n",
              "5                     Vishal   \n",
              "6            Amazon Customer   \n",
              "7                      Kavya   \n",
              "8  Atreyapurapu Radha Madhav   \n",
              "9       Dibyaprakash Pradhan   \n",
              "\n",
              "                                        Review title      Review date  \\\n",
              "0  The Apple Pro Max 14: A Powerful Beast That De...      25 May 2023   \n",
              "1                                              Great  25 January 2023   \n",
              "2                                        About phone      23 May 2023   \n",
              "3                                               Good      24 May 2023   \n",
              "4              Android is better when it comes to os    18 April 2023   \n",
              "5                               Phone is much better      18 May 2023   \n",
              "6                                              Super      20 May 2023   \n",
              "7                                          Excellent      30 May 2023   \n",
              "8                           Most Trusted Online Site       8 May 2023   \n",
              "9                                         True Value      10 May 2023   \n",
              "\n",
              "        Review rating                                     Review content  \n",
              "0  5.0 out of 5 stars  The Apple Pro Max 14 is the latest addition to...  \n",
              "1  5.0 out of 5 stars  Apple hasn’t made any bones about the fact tha...  \n",
              "2  5.0 out of 5 stars  The iPhone Pro Max series typically offers a l...  \n",
              "3  5.0 out of 5 stars                                               Good  \n",
              "4  4.0 out of 5 stars  Switched to iphone from android and i miss som...  \n",
              "5  5.0 out of 5 stars                                               Like  \n",
              "6  5.0 out of 5 stars                                    Amazing project  \n",
              "7  5.0 out of 5 stars                      The media could not be loa...  \n",
              "8  5.0 out of 5 stars  Trust the product delivery on time and correct...  \n",
              "9  5.0 out of 5 stars          Premium experience, monstrous performance  "
            ],
            "text/html": [
              "\n",
              "  <div id=\"df-b692ac4e-202d-43f7-92e9-01bfd497042c\">\n",
              "    <div class=\"colab-df-container\">\n",
              "      <div>\n",
              "<style scoped>\n",
              "    .dataframe tbody tr th:only-of-type {\n",
              "        vertical-align: middle;\n",
              "    }\n",
              "\n",
              "    .dataframe tbody tr th {\n",
              "        vertical-align: top;\n",
              "    }\n",
              "\n",
              "    .dataframe thead th {\n",
              "        text-align: right;\n",
              "    }\n",
              "</style>\n",
              "<table border=\"1\" class=\"dataframe\">\n",
              "  <thead>\n",
              "    <tr style=\"text-align: right;\">\n",
              "      <th></th>\n",
              "      <th>Customer Name</th>\n",
              "      <th>Review title</th>\n",
              "      <th>Review date</th>\n",
              "      <th>Review rating</th>\n",
              "      <th>Review content</th>\n",
              "    </tr>\n",
              "  </thead>\n",
              "  <tbody>\n",
              "    <tr>\n",
              "      <th>0</th>\n",
              "      <td>Benu</td>\n",
              "      <td>The Apple Pro Max 14: A Powerful Beast That De...</td>\n",
              "      <td>25 May 2023</td>\n",
              "      <td>5.0 out of 5 stars</td>\n",
              "      <td>The Apple Pro Max 14 is the latest addition to...</td>\n",
              "    </tr>\n",
              "    <tr>\n",
              "      <th>1</th>\n",
              "      <td>Mr. M</td>\n",
              "      <td>Great</td>\n",
              "      <td>25 January 2023</td>\n",
              "      <td>5.0 out of 5 stars</td>\n",
              "      <td>Apple hasn’t made any bones about the fact tha...</td>\n",
              "    </tr>\n",
              "    <tr>\n",
              "      <th>2</th>\n",
              "      <td>Gaurav Shahdeo</td>\n",
              "      <td>About phone</td>\n",
              "      <td>23 May 2023</td>\n",
              "      <td>5.0 out of 5 stars</td>\n",
              "      <td>The iPhone Pro Max series typically offers a l...</td>\n",
              "    </tr>\n",
              "    <tr>\n",
              "      <th>3</th>\n",
              "      <td>Lakshmesh Kumar Singh</td>\n",
              "      <td>Good</td>\n",
              "      <td>24 May 2023</td>\n",
              "      <td>5.0 out of 5 stars</td>\n",
              "      <td>Good</td>\n",
              "    </tr>\n",
              "    <tr>\n",
              "      <th>4</th>\n",
              "      <td>AKASH SHARMA</td>\n",
              "      <td>Android is better when it comes to os</td>\n",
              "      <td>18 April 2023</td>\n",
              "      <td>4.0 out of 5 stars</td>\n",
              "      <td>Switched to iphone from android and i miss som...</td>\n",
              "    </tr>\n",
              "    <tr>\n",
              "      <th>5</th>\n",
              "      <td>Vishal</td>\n",
              "      <td>Phone is much better</td>\n",
              "      <td>18 May 2023</td>\n",
              "      <td>5.0 out of 5 stars</td>\n",
              "      <td>Like</td>\n",
              "    </tr>\n",
              "    <tr>\n",
              "      <th>6</th>\n",
              "      <td>Amazon Customer</td>\n",
              "      <td>Super</td>\n",
              "      <td>20 May 2023</td>\n",
              "      <td>5.0 out of 5 stars</td>\n",
              "      <td>Amazing project</td>\n",
              "    </tr>\n",
              "    <tr>\n",
              "      <th>7</th>\n",
              "      <td>Kavya</td>\n",
              "      <td>Excellent</td>\n",
              "      <td>30 May 2023</td>\n",
              "      <td>5.0 out of 5 stars</td>\n",
              "      <td>The media could not be loa...</td>\n",
              "    </tr>\n",
              "    <tr>\n",
              "      <th>8</th>\n",
              "      <td>Atreyapurapu Radha Madhav</td>\n",
              "      <td>Most Trusted Online Site</td>\n",
              "      <td>8 May 2023</td>\n",
              "      <td>5.0 out of 5 stars</td>\n",
              "      <td>Trust the product delivery on time and correct...</td>\n",
              "    </tr>\n",
              "    <tr>\n",
              "      <th>9</th>\n",
              "      <td>Dibyaprakash Pradhan</td>\n",
              "      <td>True Value</td>\n",
              "      <td>10 May 2023</td>\n",
              "      <td>5.0 out of 5 stars</td>\n",
              "      <td>Premium experience, monstrous performance</td>\n",
              "    </tr>\n",
              "  </tbody>\n",
              "</table>\n",
              "</div>\n",
              "      <button class=\"colab-df-convert\" onclick=\"convertToInteractive('df-b692ac4e-202d-43f7-92e9-01bfd497042c')\"\n",
              "              title=\"Convert this dataframe to an interactive table.\"\n",
              "              style=\"display:none;\">\n",
              "        \n",
              "  <svg xmlns=\"http://www.w3.org/2000/svg\" height=\"24px\"viewBox=\"0 0 24 24\"\n",
              "       width=\"24px\">\n",
              "    <path d=\"M0 0h24v24H0V0z\" fill=\"none\"/>\n",
              "    <path d=\"M18.56 5.44l.94 2.06.94-2.06 2.06-.94-2.06-.94-.94-2.06-.94 2.06-2.06.94zm-11 1L8.5 8.5l.94-2.06 2.06-.94-2.06-.94L8.5 2.5l-.94 2.06-2.06.94zm10 10l.94 2.06.94-2.06 2.06-.94-2.06-.94-.94-2.06-.94 2.06-2.06.94z\"/><path d=\"M17.41 7.96l-1.37-1.37c-.4-.4-.92-.59-1.43-.59-.52 0-1.04.2-1.43.59L10.3 9.45l-7.72 7.72c-.78.78-.78 2.05 0 2.83L4 21.41c.39.39.9.59 1.41.59.51 0 1.02-.2 1.41-.59l7.78-7.78 2.81-2.81c.8-.78.8-2.07 0-2.86zM5.41 20L4 18.59l7.72-7.72 1.47 1.35L5.41 20z\"/>\n",
              "  </svg>\n",
              "      </button>\n",
              "      \n",
              "  <style>\n",
              "    .colab-df-container {\n",
              "      display:flex;\n",
              "      flex-wrap:wrap;\n",
              "      gap: 12px;\n",
              "    }\n",
              "\n",
              "    .colab-df-convert {\n",
              "      background-color: #E8F0FE;\n",
              "      border: none;\n",
              "      border-radius: 50%;\n",
              "      cursor: pointer;\n",
              "      display: none;\n",
              "      fill: #1967D2;\n",
              "      height: 32px;\n",
              "      padding: 0 0 0 0;\n",
              "      width: 32px;\n",
              "    }\n",
              "\n",
              "    .colab-df-convert:hover {\n",
              "      background-color: #E2EBFA;\n",
              "      box-shadow: 0px 1px 2px rgba(60, 64, 67, 0.3), 0px 1px 3px 1px rgba(60, 64, 67, 0.15);\n",
              "      fill: #174EA6;\n",
              "    }\n",
              "\n",
              "    [theme=dark] .colab-df-convert {\n",
              "      background-color: #3B4455;\n",
              "      fill: #D2E3FC;\n",
              "    }\n",
              "\n",
              "    [theme=dark] .colab-df-convert:hover {\n",
              "      background-color: #434B5C;\n",
              "      box-shadow: 0px 1px 3px 1px rgba(0, 0, 0, 0.15);\n",
              "      filter: drop-shadow(0px 1px 2px rgba(0, 0, 0, 0.3));\n",
              "      fill: #FFFFFF;\n",
              "    }\n",
              "  </style>\n",
              "\n",
              "      <script>\n",
              "        const buttonEl =\n",
              "          document.querySelector('#df-b692ac4e-202d-43f7-92e9-01bfd497042c button.colab-df-convert');\n",
              "        buttonEl.style.display =\n",
              "          google.colab.kernel.accessAllowed ? 'block' : 'none';\n",
              "\n",
              "        async function convertToInteractive(key) {\n",
              "          const element = document.querySelector('#df-b692ac4e-202d-43f7-92e9-01bfd497042c');\n",
              "          const dataTable =\n",
              "            await google.colab.kernel.invokeFunction('convertToInteractive',\n",
              "                                                     [key], {});\n",
              "          if (!dataTable) return;\n",
              "\n",
              "          const docLinkHtml = 'Like what you see? Visit the ' +\n",
              "            '<a target=\"_blank\" href=https://colab.research.google.com/notebooks/data_table.ipynb>data table notebook</a>'\n",
              "            + ' to learn more about interactive tables.';\n",
              "          element.innerHTML = '';\n",
              "          dataTable['output_type'] = 'display_data';\n",
              "          await google.colab.output.renderOutput(dataTable, element);\n",
              "          const docLink = document.createElement('div');\n",
              "          docLink.innerHTML = docLinkHtml;\n",
              "          element.appendChild(docLink);\n",
              "        }\n",
              "      </script>\n",
              "    </div>\n",
              "  </div>\n",
              "  "
            ]
          },
          "metadata": {},
          "execution_count": 39
        }
      ]
    },
    {
      "cell_type": "code",
      "source": [
        "df.to_csv('amazon1.csv')"
      ],
      "metadata": {
        "id": "9X9VGtquiZ8q"
      },
      "execution_count": null,
      "outputs": []
    },
    {
      "cell_type": "code",
      "source": [
        "#Assignment 1 - to be submitted in form of a pdf file\n",
        "#page 1 - Name and Introduction and other details\n",
        "#page 2 onwards - Put in your python code cell by cell/Google colab screenshots\n",
        "\n",
        "#Subject - Teachnook DataScience Assignment 1\n",
        "#mail.ameenmanna@gmail.com\n",
        "#Last date - 12th June,2023"
      ],
      "metadata": {
        "id": "AxZTw2WtjDQb"
      },
      "execution_count": null,
      "outputs": []
    },
    {
      "cell_type": "code",
      "source": [
        "#Assignment 2 -  Take any dataset of your choice and apply Exploratory Data Analysis and find out\n",
        "#atleast 5 different facts/conclusions."
      ],
      "metadata": {
        "id": "3YJWzzhxjyRV"
      },
      "execution_count": null,
      "outputs": []
    },
    {
      "cell_type": "code",
      "source": [
        "#tinyurl.com/teachnookds1 - Google Drive link/url"
      ],
      "metadata": {
        "id": "1neFXwvWk5eT"
      },
      "execution_count": null,
      "outputs": []
    }
  ]
}